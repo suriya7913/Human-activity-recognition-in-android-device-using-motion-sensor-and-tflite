{
 "cells": [
  {
   "cell_type": "code",
   "execution_count": null,
   "metadata": {
    "_cell_guid": "b1076dfc-b9ad-4769-8c92-a6c4dae69d19",
    "_uuid": "8f2839f25d086af736a60e9eeb907d3b93b6e0e5",
    "execution": {
     "iopub.execute_input": "2021-11-20T08:12:10.520143Z",
     "iopub.status.busy": "2021-11-20T08:12:10.519833Z",
     "iopub.status.idle": "2021-11-20T08:12:10.556989Z",
     "shell.execute_reply": "2021-11-20T08:12:10.556055Z",
     "shell.execute_reply.started": "2021-11-20T08:12:10.520065Z"
    },
    "id": "2FoDST6NktvM"
   },
   "outputs": [],
   "source": []
  },
  {
   "cell_type": "raw",
   "metadata": {
    "_cell_guid": "79c7e3d0-c299-4dcb-8224-4455121ee9b0",
    "_uuid": "d629ff2d2480ee46fbb7e2d37f6b5fab8052498a",
    "execution": {
     "iopub.execute_input": "2021-11-20T08:12:10.558854Z",
     "iopub.status.busy": "2021-11-20T08:12:10.558610Z",
     "iopub.status.idle": "2021-11-20T08:12:10.630531Z",
     "shell.execute_reply": "2021-11-20T08:12:10.629522Z",
     "shell.execute_reply.started": "2021-11-20T08:12:10.558825Z"
    },
    "id": "O_5hSTi2ktvP"
   },
   "source": []
  },
  {
   "cell_type": "code",
   "execution_count": 1,
   "metadata": {
    "execution": {
     "iopub.execute_input": "2021-11-20T08:23:53.742757Z",
     "iopub.status.busy": "2021-11-20T08:23:53.742497Z",
     "iopub.status.idle": "2021-11-20T08:23:54.220324Z",
     "shell.execute_reply": "2021-11-20T08:23:54.219442Z",
     "shell.execute_reply.started": "2021-11-20T08:23:53.742722Z"
    },
    "id": "Rfdp4LhmktvQ"
   },
   "outputs": [],
   "source": [
    "import numpy as np\n",
    "import pandas as pd\n",
    "import tensorflow as tf\n",
    "from tensorflow.keras.layers import Dense, Input, BatchNormalization, Dropout\n",
    "from tensorflow.keras.models import Sequential, Model\n",
    "from sklearn.model_selection import train_test_split\n",
    "from sklearn.preprocessing import LabelEncoder\n",
    "from sklearn.preprocessing import m\n"
   ]
  },
  {
   "cell_type": "code",
   "execution_count": 2,
   "metadata": {},
   "outputs": [],
   "source": [
    "index=pd.read_csv('data_subjects_info.csv')"
   ]
  },
  {
   "cell_type": "code",
   "execution_count": 3,
   "metadata": {
    "id": "chcy-OYIktvQ"
   },
   "outputs": [
    {
     "name": "stdout",
     "output_type": "stream",
     "text": [
      "<class 'pandas.core.frame.DataFrame'>\n",
      "RangeIndex: 1751 entries, 0 to 1750\n",
      "Data columns (total 13 columns):\n",
      " #   Column              Non-Null Count  Dtype  \n",
      "---  ------              --------------  -----  \n",
      " 0   Unnamed: 0          1751 non-null   int64  \n",
      " 1   attitude.roll       1751 non-null   float64\n",
      " 2   attitude.pitch      1751 non-null   float64\n",
      " 3   attitude.yaw        1751 non-null   float64\n",
      " 4   gravity.x           1751 non-null   float64\n",
      " 5   gravity.y           1751 non-null   float64\n",
      " 6   gravity.z           1751 non-null   float64\n",
      " 7   rotationRate.x      1751 non-null   float64\n",
      " 8   rotationRate.y      1751 non-null   float64\n",
      " 9   rotationRate.z      1751 non-null   float64\n",
      " 10  userAcceleration.x  1751 non-null   float64\n",
      " 11  userAcceleration.y  1751 non-null   float64\n",
      " 12  userAcceleration.z  1751 non-null   float64\n",
      "dtypes: float64(12), int64(1)\n",
      "memory usage: 178.0 KB\n"
     ]
    }
   ],
   "source": [
    "data = pd.read_csv('dws_1/sub_1.csv')\n",
    "data.info()"
   ]
  },
  {
   "cell_type": "code",
   "execution_count": 4,
   "metadata": {},
   "outputs": [],
   "source": [
    "data2=pd.DataFrame()\n",
    "for i in range (0,24):\n",
    "    temp_data=pd.read_csv('dws_1/sub_'+str(i+1)+'.csv')\n",
    "    temp_data['weight']=index.iloc[i,1]\n",
    "    temp_data['height']=index.iloc[i,2]\n",
    "    temp_data['age']=index.iloc[i,3]\n",
    "    temp_data['gender']=index.iloc[i,4]\n",
    "    data2=data2.append(temp_data)\n",
    "    \n",
    "\n",
    "\n",
    "\n",
    "        \n",
    "    \n"
   ]
  },
  {
   "cell_type": "code",
   "execution_count": 5,
   "metadata": {},
   "outputs": [],
   "source": [
    "data2\n",
    "dws=data2\n"
   ]
  },
  {
   "cell_type": "code",
   "execution_count": 6,
   "metadata": {
    "_uuid": "a2152c657d76333831f4bff3495c76ee3229c467",
    "colab": {
     "base_uri": "https://localhost:8080/",
     "height": 398
    },
    "execution": {
     "iopub.execute_input": "2021-11-20T08:21:30.496728Z",
     "iopub.status.busy": "2021-11-20T08:21:30.496481Z",
     "iopub.status.idle": "2021-11-20T08:21:30.677661Z",
     "shell.execute_reply": "2021-11-20T08:21:30.676296Z",
     "shell.execute_reply.started": "2021-11-20T08:21:30.496696Z"
    },
    "id": "pVSANP2aktvR",
    "outputId": "7be3bb95-3d18-4a72-fd04-6fa972c00e11"
   },
   "outputs": [],
   "source": [
    "data2=pd.DataFrame()\n",
    "for i in range (0,24):\n",
    "    temp_data=pd.read_csv('jog_9/sub_'+str(i+1)+'.csv')\n",
    "    temp_data['weight']=index.iloc[i,1]\n",
    "    temp_data['height']=index.iloc[i,2]\n",
    "    temp_data['age']=index.iloc[i,3]\n",
    "    temp_data['gender']=index.iloc[i,4]\n",
    "    data2=data2.append(temp_data)\n",
    "jog=data2"
   ]
  },
  {
   "cell_type": "code",
   "execution_count": 7,
   "metadata": {},
   "outputs": [],
   "source": [
    "data2=pd.DataFrame()\n",
    "for i in range (0,24):\n",
    "    temp_data=pd.read_csv('sit_5/sub_'+str(i+1)+'.csv')\n",
    "    temp_data['weight']=index.iloc[i,1]\n",
    "    temp_data['height']=index.iloc[i,2]\n",
    "    temp_data['age']=index.iloc[i,3]\n",
    "    temp_data['gender']=index.iloc[i,4]\n",
    "    data2=data2.append(temp_data)\n",
    "sit=data2"
   ]
  },
  {
   "cell_type": "code",
   "execution_count": 8,
   "metadata": {},
   "outputs": [],
   "source": [
    "data2=pd.DataFrame()\n",
    "for i in range (0,24):\n",
    "    temp_data=pd.read_csv('std_6/sub_'+str(i+1)+'.csv')\n",
    "    temp_data['weight']=index.iloc[i,1]\n",
    "    temp_data['height']=index.iloc[i,2]\n",
    "    temp_data['age']=index.iloc[i,3]\n",
    "    temp_data['gender']=index.iloc[i,4]\n",
    "    data2=data2.append(temp_data)\n",
    "std=data2"
   ]
  },
  {
   "cell_type": "code",
   "execution_count": 9,
   "metadata": {},
   "outputs": [],
   "source": [
    "data2=pd.DataFrame()\n",
    "for i in range (0,24):\n",
    "    temp_data=pd.read_csv('wlk_7/sub_'+str(i+1)+'.csv')\n",
    "    temp_data['weight']=index.iloc[i,1]\n",
    "    temp_data['height']=index.iloc[i,2]\n",
    "    temp_data['age']=index.iloc[i,3]\n",
    "    temp_data['gender']=index.iloc[i,4]\n",
    "    data2=data2.append(temp_data)\n",
    "wlk=data2"
   ]
  },
  {
   "cell_type": "code",
   "execution_count": 10,
   "metadata": {},
   "outputs": [],
   "source": [
    "data2=pd.DataFrame()\n",
    "for i in range (0,24):\n",
    "    temp_data=pd.read_csv('ups_3/sub_'+str(i+1)+'.csv')\n",
    "    temp_data['weight']=index.iloc[i,1]\n",
    "    temp_data['height']=index.iloc[i,2]\n",
    "    temp_data['age']=index.iloc[i,3]\n",
    "    temp_data['gender']=index.iloc[i,4]\n",
    "    data2=data2.append(temp_data)\n",
    "ups=data2"
   ]
  },
  {
   "cell_type": "code",
   "execution_count": 11,
   "metadata": {},
   "outputs": [
    {
     "data": {
      "text/html": [
       "<div>\n",
       "<style scoped>\n",
       "    .dataframe tbody tr th:only-of-type {\n",
       "        vertical-align: middle;\n",
       "    }\n",
       "\n",
       "    .dataframe tbody tr th {\n",
       "        vertical-align: top;\n",
       "    }\n",
       "\n",
       "    .dataframe thead th {\n",
       "        text-align: right;\n",
       "    }\n",
       "</style>\n",
       "<table border=\"1\" class=\"dataframe\">\n",
       "  <thead>\n",
       "    <tr style=\"text-align: right;\">\n",
       "      <th></th>\n",
       "      <th>Unnamed: 0</th>\n",
       "      <th>attitude.roll</th>\n",
       "      <th>attitude.pitch</th>\n",
       "      <th>attitude.yaw</th>\n",
       "      <th>gravity.x</th>\n",
       "      <th>gravity.y</th>\n",
       "      <th>gravity.z</th>\n",
       "      <th>rotationRate.x</th>\n",
       "      <th>rotationRate.y</th>\n",
       "      <th>rotationRate.z</th>\n",
       "      <th>userAcceleration.x</th>\n",
       "      <th>userAcceleration.y</th>\n",
       "      <th>userAcceleration.z</th>\n",
       "      <th>weight</th>\n",
       "      <th>height</th>\n",
       "      <th>age</th>\n",
       "      <th>gender</th>\n",
       "    </tr>\n",
       "  </thead>\n",
       "  <tbody>\n",
       "    <tr>\n",
       "      <th>0</th>\n",
       "      <td>0</td>\n",
       "      <td>1.528132</td>\n",
       "      <td>-0.733896</td>\n",
       "      <td>0.696372</td>\n",
       "      <td>0.741895</td>\n",
       "      <td>0.669768</td>\n",
       "      <td>-0.031672</td>\n",
       "      <td>0.316738</td>\n",
       "      <td>0.778180</td>\n",
       "      <td>1.082764</td>\n",
       "      <td>0.294894</td>\n",
       "      <td>-0.184493</td>\n",
       "      <td>0.377542</td>\n",
       "      <td>102</td>\n",
       "      <td>188</td>\n",
       "      <td>46</td>\n",
       "      <td>1</td>\n",
       "    </tr>\n",
       "    <tr>\n",
       "      <th>1</th>\n",
       "      <td>1</td>\n",
       "      <td>1.527992</td>\n",
       "      <td>-0.716987</td>\n",
       "      <td>0.677762</td>\n",
       "      <td>0.753099</td>\n",
       "      <td>0.657116</td>\n",
       "      <td>-0.032255</td>\n",
       "      <td>0.842032</td>\n",
       "      <td>0.424446</td>\n",
       "      <td>0.643574</td>\n",
       "      <td>0.219405</td>\n",
       "      <td>0.035846</td>\n",
       "      <td>0.114866</td>\n",
       "      <td>102</td>\n",
       "      <td>188</td>\n",
       "      <td>46</td>\n",
       "      <td>1</td>\n",
       "    </tr>\n",
       "    <tr>\n",
       "      <th>2</th>\n",
       "      <td>2</td>\n",
       "      <td>1.527765</td>\n",
       "      <td>-0.706999</td>\n",
       "      <td>0.670951</td>\n",
       "      <td>0.759611</td>\n",
       "      <td>0.649555</td>\n",
       "      <td>-0.032707</td>\n",
       "      <td>-0.138143</td>\n",
       "      <td>-0.040741</td>\n",
       "      <td>0.343563</td>\n",
       "      <td>0.010714</td>\n",
       "      <td>0.134701</td>\n",
       "      <td>-0.167808</td>\n",
       "      <td>102</td>\n",
       "      <td>188</td>\n",
       "      <td>46</td>\n",
       "      <td>1</td>\n",
       "    </tr>\n",
       "    <tr>\n",
       "      <th>3</th>\n",
       "      <td>3</td>\n",
       "      <td>1.516768</td>\n",
       "      <td>-0.704678</td>\n",
       "      <td>0.675735</td>\n",
       "      <td>0.760709</td>\n",
       "      <td>0.647788</td>\n",
       "      <td>-0.041140</td>\n",
       "      <td>-0.025005</td>\n",
       "      <td>-1.048717</td>\n",
       "      <td>0.035860</td>\n",
       "      <td>-0.008389</td>\n",
       "      <td>0.136788</td>\n",
       "      <td>0.094958</td>\n",
       "      <td>102</td>\n",
       "      <td>188</td>\n",
       "      <td>46</td>\n",
       "      <td>1</td>\n",
       "    </tr>\n",
       "    <tr>\n",
       "      <th>4</th>\n",
       "      <td>4</td>\n",
       "      <td>1.493941</td>\n",
       "      <td>-0.703918</td>\n",
       "      <td>0.672994</td>\n",
       "      <td>0.760062</td>\n",
       "      <td>0.647210</td>\n",
       "      <td>-0.058530</td>\n",
       "      <td>0.114253</td>\n",
       "      <td>-0.912890</td>\n",
       "      <td>0.047341</td>\n",
       "      <td>0.199441</td>\n",
       "      <td>0.353996</td>\n",
       "      <td>-0.044299</td>\n",
       "      <td>102</td>\n",
       "      <td>188</td>\n",
       "      <td>46</td>\n",
       "      <td>1</td>\n",
       "    </tr>\n",
       "    <tr>\n",
       "      <th>5</th>\n",
       "      <td>5</td>\n",
       "      <td>1.476302</td>\n",
       "      <td>-0.700807</td>\n",
       "      <td>0.669443</td>\n",
       "      <td>0.760912</td>\n",
       "      <td>0.644835</td>\n",
       "      <td>-0.072116</td>\n",
       "      <td>0.187742</td>\n",
       "      <td>-0.763656</td>\n",
       "      <td>0.226057</td>\n",
       "      <td>0.168241</td>\n",
       "      <td>0.145906</td>\n",
       "      <td>0.012455</td>\n",
       "      <td>102</td>\n",
       "      <td>188</td>\n",
       "      <td>46</td>\n",
       "      <td>1</td>\n",
       "    </tr>\n",
       "    <tr>\n",
       "      <th>6</th>\n",
       "      <td>6</td>\n",
       "      <td>1.455153</td>\n",
       "      <td>-0.694408</td>\n",
       "      <td>0.662593</td>\n",
       "      <td>0.763300</td>\n",
       "      <td>0.639930</td>\n",
       "      <td>-0.088666</td>\n",
       "      <td>0.343096</td>\n",
       "      <td>-0.803820</td>\n",
       "      <td>0.278468</td>\n",
       "      <td>0.079382</td>\n",
       "      <td>-0.026344</td>\n",
       "      <td>-0.195590</td>\n",
       "      <td>102</td>\n",
       "      <td>188</td>\n",
       "      <td>46</td>\n",
       "      <td>1</td>\n",
       "    </tr>\n",
       "    <tr>\n",
       "      <th>7</th>\n",
       "      <td>7</td>\n",
       "      <td>1.441702</td>\n",
       "      <td>-0.690710</td>\n",
       "      <td>0.656459</td>\n",
       "      <td>0.764380</td>\n",
       "      <td>0.637084</td>\n",
       "      <td>-0.099229</td>\n",
       "      <td>0.176202</td>\n",
       "      <td>-0.172756</td>\n",
       "      <td>0.056415</td>\n",
       "      <td>0.069360</td>\n",
       "      <td>0.072678</td>\n",
       "      <td>-0.102920</td>\n",
       "      <td>102</td>\n",
       "      <td>188</td>\n",
       "      <td>46</td>\n",
       "      <td>1</td>\n",
       "    </tr>\n",
       "    <tr>\n",
       "      <th>8</th>\n",
       "      <td>8</td>\n",
       "      <td>1.443440</td>\n",
       "      <td>-0.691905</td>\n",
       "      <td>0.651196</td>\n",
       "      <td>0.763796</td>\n",
       "      <td>0.638005</td>\n",
       "      <td>-0.097803</td>\n",
       "      <td>0.274786</td>\n",
       "      <td>0.446585</td>\n",
       "      <td>-0.132766</td>\n",
       "      <td>0.072889</td>\n",
       "      <td>0.079921</td>\n",
       "      <td>-0.075323</td>\n",
       "      <td>102</td>\n",
       "      <td>188</td>\n",
       "      <td>46</td>\n",
       "      <td>1</td>\n",
       "    </tr>\n",
       "    <tr>\n",
       "      <th>9</th>\n",
       "      <td>9</td>\n",
       "      <td>1.443071</td>\n",
       "      <td>-0.693039</td>\n",
       "      <td>0.638198</td>\n",
       "      <td>0.763042</td>\n",
       "      <td>0.638878</td>\n",
       "      <td>-0.097993</td>\n",
       "      <td>0.633672</td>\n",
       "      <td>0.316372</td>\n",
       "      <td>-0.115137</td>\n",
       "      <td>0.098347</td>\n",
       "      <td>-0.017021</td>\n",
       "      <td>-0.197310</td>\n",
       "      <td>102</td>\n",
       "      <td>188</td>\n",
       "      <td>46</td>\n",
       "      <td>1</td>\n",
       "    </tr>\n",
       "  </tbody>\n",
       "</table>\n",
       "</div>"
      ],
      "text/plain": [
       "   Unnamed: 0  attitude.roll  attitude.pitch  attitude.yaw  gravity.x  \\\n",
       "0           0       1.528132       -0.733896      0.696372   0.741895   \n",
       "1           1       1.527992       -0.716987      0.677762   0.753099   \n",
       "2           2       1.527765       -0.706999      0.670951   0.759611   \n",
       "3           3       1.516768       -0.704678      0.675735   0.760709   \n",
       "4           4       1.493941       -0.703918      0.672994   0.760062   \n",
       "5           5       1.476302       -0.700807      0.669443   0.760912   \n",
       "6           6       1.455153       -0.694408      0.662593   0.763300   \n",
       "7           7       1.441702       -0.690710      0.656459   0.764380   \n",
       "8           8       1.443440       -0.691905      0.651196   0.763796   \n",
       "9           9       1.443071       -0.693039      0.638198   0.763042   \n",
       "\n",
       "   gravity.y  gravity.z  rotationRate.x  rotationRate.y  rotationRate.z  \\\n",
       "0   0.669768  -0.031672        0.316738        0.778180        1.082764   \n",
       "1   0.657116  -0.032255        0.842032        0.424446        0.643574   \n",
       "2   0.649555  -0.032707       -0.138143       -0.040741        0.343563   \n",
       "3   0.647788  -0.041140       -0.025005       -1.048717        0.035860   \n",
       "4   0.647210  -0.058530        0.114253       -0.912890        0.047341   \n",
       "5   0.644835  -0.072116        0.187742       -0.763656        0.226057   \n",
       "6   0.639930  -0.088666        0.343096       -0.803820        0.278468   \n",
       "7   0.637084  -0.099229        0.176202       -0.172756        0.056415   \n",
       "8   0.638005  -0.097803        0.274786        0.446585       -0.132766   \n",
       "9   0.638878  -0.097993        0.633672        0.316372       -0.115137   \n",
       "\n",
       "   userAcceleration.x  userAcceleration.y  userAcceleration.z  weight  height  \\\n",
       "0            0.294894           -0.184493            0.377542     102     188   \n",
       "1            0.219405            0.035846            0.114866     102     188   \n",
       "2            0.010714            0.134701           -0.167808     102     188   \n",
       "3           -0.008389            0.136788            0.094958     102     188   \n",
       "4            0.199441            0.353996           -0.044299     102     188   \n",
       "5            0.168241            0.145906            0.012455     102     188   \n",
       "6            0.079382           -0.026344           -0.195590     102     188   \n",
       "7            0.069360            0.072678           -0.102920     102     188   \n",
       "8            0.072889            0.079921           -0.075323     102     188   \n",
       "9            0.098347           -0.017021           -0.197310     102     188   \n",
       "\n",
       "   age  gender  \n",
       "0   46       1  \n",
       "1   46       1  \n",
       "2   46       1  \n",
       "3   46       1  \n",
       "4   46       1  \n",
       "5   46       1  \n",
       "6   46       1  \n",
       "7   46       1  \n",
       "8   46       1  \n",
       "9   46       1  "
      ]
     },
     "execution_count": 11,
     "metadata": {},
     "output_type": "execute_result"
    }
   ],
   "source": [
    "dws.head(10)"
   ]
  },
  {
   "cell_type": "code",
   "execution_count": 12,
   "metadata": {},
   "outputs": [],
   "source": [
    "order=['sit','std','wlk','jog','ups','dws']"
   ]
  },
  {
   "cell_type": "code",
   "execution_count": 13,
   "metadata": {},
   "outputs": [],
   "source": [
    "sit['activity']=1\n",
    "std['activity']=2\n",
    "wlk['activity']=3\n",
    "jog['activity']=4\n",
    "ups['activity']=5\n",
    "dws['activity']=6"
   ]
  },
  {
   "cell_type": "code",
   "execution_count": 14,
   "metadata": {},
   "outputs": [],
   "source": [
    "final_data = pd.concat([sit, std,wlk,jog,ups,dws], ignore_index=True)\n"
   ]
  },
  {
   "cell_type": "code",
   "execution_count": 15,
   "metadata": {},
   "outputs": [
    {
     "name": "stdout",
     "output_type": "stream",
     "text": [
      "<class 'pandas.core.frame.DataFrame'>\n",
      "RangeIndex: 830895 entries, 0 to 830894\n",
      "Data columns (total 18 columns):\n",
      " #   Column              Non-Null Count   Dtype  \n",
      "---  ------              --------------   -----  \n",
      " 0   Unnamed: 0          830895 non-null  int64  \n",
      " 1   attitude.roll       830895 non-null  float64\n",
      " 2   attitude.pitch      830895 non-null  float64\n",
      " 3   attitude.yaw        830895 non-null  float64\n",
      " 4   gravity.x           830895 non-null  float64\n",
      " 5   gravity.y           830895 non-null  float64\n",
      " 6   gravity.z           830895 non-null  float64\n",
      " 7   rotationRate.x      830895 non-null  float64\n",
      " 8   rotationRate.y      830895 non-null  float64\n",
      " 9   rotationRate.z      830895 non-null  float64\n",
      " 10  userAcceleration.x  830895 non-null  float64\n",
      " 11  userAcceleration.y  830895 non-null  float64\n",
      " 12  userAcceleration.z  830895 non-null  float64\n",
      " 13  weight              830895 non-null  int64  \n",
      " 14  height              830895 non-null  int64  \n",
      " 15  age                 830895 non-null  int64  \n",
      " 16  gender              830895 non-null  int64  \n",
      " 17  activity            830895 non-null  int64  \n",
      "dtypes: float64(12), int64(6)\n",
      "memory usage: 114.1 MB\n"
     ]
    }
   ],
   "source": [
    "final_data.info()"
   ]
  },
  {
   "cell_type": "code",
   "execution_count": 16,
   "metadata": {},
   "outputs": [
    {
     "data": {
      "text/html": [
       "<div>\n",
       "<style scoped>\n",
       "    .dataframe tbody tr th:only-of-type {\n",
       "        vertical-align: middle;\n",
       "    }\n",
       "\n",
       "    .dataframe tbody tr th {\n",
       "        vertical-align: top;\n",
       "    }\n",
       "\n",
       "    .dataframe thead th {\n",
       "        text-align: right;\n",
       "    }\n",
       "</style>\n",
       "<table border=\"1\" class=\"dataframe\">\n",
       "  <thead>\n",
       "    <tr style=\"text-align: right;\">\n",
       "      <th></th>\n",
       "      <th>Unnamed: 0</th>\n",
       "      <th>attitude.roll</th>\n",
       "      <th>attitude.pitch</th>\n",
       "      <th>attitude.yaw</th>\n",
       "      <th>gravity.x</th>\n",
       "      <th>gravity.y</th>\n",
       "      <th>gravity.z</th>\n",
       "      <th>rotationRate.x</th>\n",
       "      <th>rotationRate.y</th>\n",
       "      <th>rotationRate.z</th>\n",
       "      <th>userAcceleration.x</th>\n",
       "      <th>userAcceleration.y</th>\n",
       "      <th>userAcceleration.z</th>\n",
       "      <th>weight</th>\n",
       "      <th>height</th>\n",
       "      <th>age</th>\n",
       "      <th>gender</th>\n",
       "      <th>activity</th>\n",
       "    </tr>\n",
       "  </thead>\n",
       "  <tbody>\n",
       "    <tr>\n",
       "      <th>0</th>\n",
       "      <td>0</td>\n",
       "      <td>0.351138</td>\n",
       "      <td>-0.416302</td>\n",
       "      <td>-0.098023</td>\n",
       "      <td>0.314588</td>\n",
       "      <td>0.404381</td>\n",
       "      <td>-0.858784</td>\n",
       "      <td>-0.003655</td>\n",
       "      <td>0.009577</td>\n",
       "      <td>-0.000234</td>\n",
       "      <td>0.000094</td>\n",
       "      <td>0.000252</td>\n",
       "      <td>-0.006954</td>\n",
       "      <td>102</td>\n",
       "      <td>188</td>\n",
       "      <td>46</td>\n",
       "      <td>1</td>\n",
       "      <td>1</td>\n",
       "    </tr>\n",
       "    <tr>\n",
       "      <th>1</th>\n",
       "      <td>1</td>\n",
       "      <td>0.351219</td>\n",
       "      <td>-0.416372</td>\n",
       "      <td>-0.098025</td>\n",
       "      <td>0.314649</td>\n",
       "      <td>0.404445</td>\n",
       "      <td>-0.858732</td>\n",
       "      <td>-0.007937</td>\n",
       "      <td>0.007457</td>\n",
       "      <td>0.000807</td>\n",
       "      <td>-0.001309</td>\n",
       "      <td>0.002262</td>\n",
       "      <td>-0.010348</td>\n",
       "      <td>102</td>\n",
       "      <td>188</td>\n",
       "      <td>46</td>\n",
       "      <td>1</td>\n",
       "      <td>1</td>\n",
       "    </tr>\n",
       "    <tr>\n",
       "      <th>2</th>\n",
       "      <td>2</td>\n",
       "      <td>0.351145</td>\n",
       "      <td>-0.416497</td>\n",
       "      <td>-0.098045</td>\n",
       "      <td>0.314567</td>\n",
       "      <td>0.404560</td>\n",
       "      <td>-0.858708</td>\n",
       "      <td>-0.007960</td>\n",
       "      <td>-0.001053</td>\n",
       "      <td>-0.002387</td>\n",
       "      <td>-0.002174</td>\n",
       "      <td>0.000012</td>\n",
       "      <td>-0.006664</td>\n",
       "      <td>102</td>\n",
       "      <td>188</td>\n",
       "      <td>46</td>\n",
       "      <td>1</td>\n",
       "      <td>1</td>\n",
       "    </tr>\n",
       "    <tr>\n",
       "      <th>3</th>\n",
       "      <td>3</td>\n",
       "      <td>0.350849</td>\n",
       "      <td>-0.416695</td>\n",
       "      <td>-0.098148</td>\n",
       "      <td>0.314286</td>\n",
       "      <td>0.404740</td>\n",
       "      <td>-0.858726</td>\n",
       "      <td>-0.000521</td>\n",
       "      <td>-0.006411</td>\n",
       "      <td>-0.001261</td>\n",
       "      <td>0.001693</td>\n",
       "      <td>0.009216</td>\n",
       "      <td>-0.011575</td>\n",
       "      <td>102</td>\n",
       "      <td>188</td>\n",
       "      <td>46</td>\n",
       "      <td>1</td>\n",
       "      <td>1</td>\n",
       "    </tr>\n",
       "    <tr>\n",
       "      <th>4</th>\n",
       "      <td>4</td>\n",
       "      <td>0.350859</td>\n",
       "      <td>-0.416863</td>\n",
       "      <td>-0.098022</td>\n",
       "      <td>0.314271</td>\n",
       "      <td>0.404894</td>\n",
       "      <td>-0.858658</td>\n",
       "      <td>-0.001613</td>\n",
       "      <td>-0.004306</td>\n",
       "      <td>0.006206</td>\n",
       "      <td>0.005767</td>\n",
       "      <td>0.007490</td>\n",
       "      <td>-0.008926</td>\n",
       "      <td>102</td>\n",
       "      <td>188</td>\n",
       "      <td>46</td>\n",
       "      <td>1</td>\n",
       "      <td>1</td>\n",
       "    </tr>\n",
       "  </tbody>\n",
       "</table>\n",
       "</div>"
      ],
      "text/plain": [
       "   Unnamed: 0  attitude.roll  attitude.pitch  attitude.yaw  gravity.x  \\\n",
       "0           0       0.351138       -0.416302     -0.098023   0.314588   \n",
       "1           1       0.351219       -0.416372     -0.098025   0.314649   \n",
       "2           2       0.351145       -0.416497     -0.098045   0.314567   \n",
       "3           3       0.350849       -0.416695     -0.098148   0.314286   \n",
       "4           4       0.350859       -0.416863     -0.098022   0.314271   \n",
       "\n",
       "   gravity.y  gravity.z  rotationRate.x  rotationRate.y  rotationRate.z  \\\n",
       "0   0.404381  -0.858784       -0.003655        0.009577       -0.000234   \n",
       "1   0.404445  -0.858732       -0.007937        0.007457        0.000807   \n",
       "2   0.404560  -0.858708       -0.007960       -0.001053       -0.002387   \n",
       "3   0.404740  -0.858726       -0.000521       -0.006411       -0.001261   \n",
       "4   0.404894  -0.858658       -0.001613       -0.004306        0.006206   \n",
       "\n",
       "   userAcceleration.x  userAcceleration.y  userAcceleration.z  weight  height  \\\n",
       "0            0.000094            0.000252           -0.006954     102     188   \n",
       "1           -0.001309            0.002262           -0.010348     102     188   \n",
       "2           -0.002174            0.000012           -0.006664     102     188   \n",
       "3            0.001693            0.009216           -0.011575     102     188   \n",
       "4            0.005767            0.007490           -0.008926     102     188   \n",
       "\n",
       "   age  gender  activity  \n",
       "0   46       1         1  \n",
       "1   46       1         1  \n",
       "2   46       1         1  \n",
       "3   46       1         1  \n",
       "4   46       1         1  "
      ]
     },
     "execution_count": 16,
     "metadata": {},
     "output_type": "execute_result"
    }
   ],
   "source": [
    "final_data.head()"
   ]
  },
  {
   "cell_type": "code",
   "execution_count": null,
   "metadata": {},
   "outputs": [],
   "source": []
  },
  {
   "cell_type": "code",
   "execution_count": null,
   "metadata": {},
   "outputs": [],
   "source": []
  },
  {
   "cell_type": "code",
   "execution_count": 17,
   "metadata": {
    "_uuid": "7775ad54ceb7a09bfa988cee89798bd73f51a7f3",
    "execution": {
     "iopub.execute_input": "2021-11-20T08:26:34.034557Z",
     "iopub.status.busy": "2021-11-20T08:26:34.034309Z",
     "iopub.status.idle": "2021-11-20T08:26:34.042907Z",
     "shell.execute_reply": "2021-11-20T08:26:34.041613Z",
     "shell.execute_reply.started": "2021-11-20T08:26:34.034511Z"
    },
    "id": "sDFDTUNtktvS"
   },
   "outputs": [],
   "source": [
    "X = final_data[['attitude.roll', 'attitude.pitch', 'attitude.yaw', 'gravity.x', 'gravity.y', 'gravity.z','rotationRate.x','rotationRate.y','rotationRate.z','userAcceleration.x','userAcceleration.y','userAcceleration.z']]\n",
    "y = final_data[['activity']]\n"
   ]
  },
  {
   "cell_type": "code",
   "execution_count": 18,
   "metadata": {},
   "outputs": [
    {
     "data": {
      "text/html": [
       "<div>\n",
       "<style scoped>\n",
       "    .dataframe tbody tr th:only-of-type {\n",
       "        vertical-align: middle;\n",
       "    }\n",
       "\n",
       "    .dataframe tbody tr th {\n",
       "        vertical-align: top;\n",
       "    }\n",
       "\n",
       "    .dataframe thead th {\n",
       "        text-align: right;\n",
       "    }\n",
       "</style>\n",
       "<table border=\"1\" class=\"dataframe\">\n",
       "  <thead>\n",
       "    <tr style=\"text-align: right;\">\n",
       "      <th></th>\n",
       "      <th>activity</th>\n",
       "    </tr>\n",
       "  </thead>\n",
       "  <tbody>\n",
       "    <tr>\n",
       "      <th>0</th>\n",
       "      <td>1</td>\n",
       "    </tr>\n",
       "    <tr>\n",
       "      <th>1</th>\n",
       "      <td>1</td>\n",
       "    </tr>\n",
       "    <tr>\n",
       "      <th>2</th>\n",
       "      <td>1</td>\n",
       "    </tr>\n",
       "    <tr>\n",
       "      <th>3</th>\n",
       "      <td>1</td>\n",
       "    </tr>\n",
       "    <tr>\n",
       "      <th>4</th>\n",
       "      <td>1</td>\n",
       "    </tr>\n",
       "    <tr>\n",
       "      <th>...</th>\n",
       "      <td>...</td>\n",
       "    </tr>\n",
       "    <tr>\n",
       "      <th>830890</th>\n",
       "      <td>6</td>\n",
       "    </tr>\n",
       "    <tr>\n",
       "      <th>830891</th>\n",
       "      <td>6</td>\n",
       "    </tr>\n",
       "    <tr>\n",
       "      <th>830892</th>\n",
       "      <td>6</td>\n",
       "    </tr>\n",
       "    <tr>\n",
       "      <th>830893</th>\n",
       "      <td>6</td>\n",
       "    </tr>\n",
       "    <tr>\n",
       "      <th>830894</th>\n",
       "      <td>6</td>\n",
       "    </tr>\n",
       "  </tbody>\n",
       "</table>\n",
       "<p>830895 rows × 1 columns</p>\n",
       "</div>"
      ],
      "text/plain": [
       "        activity\n",
       "0              1\n",
       "1              1\n",
       "2              1\n",
       "3              1\n",
       "4              1\n",
       "...          ...\n",
       "830890         6\n",
       "830891         6\n",
       "830892         6\n",
       "830893         6\n",
       "830894         6\n",
       "\n",
       "[830895 rows x 1 columns]"
      ]
     },
     "execution_count": 18,
     "metadata": {},
     "output_type": "execute_result"
    }
   ],
   "source": [
    "y"
   ]
  },
  {
   "cell_type": "code",
   "execution_count": 19,
   "metadata": {},
   "outputs": [],
   "source": [
    "from sklearn.preprocessing import OneHotEncoder\n",
    "# creating instance of one-hot-encoder\n",
    "enc = OneHotEncoder(handle_unknown='ignore')\n",
    "# passing bridge-types-cat column (label encoded values of bridge_types)\n",
    "enc_df = pd.DataFrame(enc.fit_transform(y[['activity']]).toarray())\n",
    "# merge with main df bridge_df on key values\n",
    "y = y.join(enc_df)\n"
   ]
  },
  {
   "cell_type": "code",
   "execution_count": 20,
   "metadata": {},
   "outputs": [
    {
     "data": {
      "text/plain": [
       "0         1\n",
       "1         1\n",
       "2         1\n",
       "3         1\n",
       "4         1\n",
       "         ..\n",
       "830890    6\n",
       "830891    6\n",
       "830892    6\n",
       "830893    6\n",
       "830894    6\n",
       "Name: activity, Length: 830895, dtype: int64"
      ]
     },
     "execution_count": 20,
     "metadata": {},
     "output_type": "execute_result"
    }
   ],
   "source": [
    "y.pop(\"activity\")\n"
   ]
  },
  {
   "cell_type": "code",
   "execution_count": 21,
   "metadata": {},
   "outputs": [
    {
     "data": {
      "text/html": [
       "<div>\n",
       "<style scoped>\n",
       "    .dataframe tbody tr th:only-of-type {\n",
       "        vertical-align: middle;\n",
       "    }\n",
       "\n",
       "    .dataframe tbody tr th {\n",
       "        vertical-align: top;\n",
       "    }\n",
       "\n",
       "    .dataframe thead th {\n",
       "        text-align: right;\n",
       "    }\n",
       "</style>\n",
       "<table border=\"1\" class=\"dataframe\">\n",
       "  <thead>\n",
       "    <tr style=\"text-align: right;\">\n",
       "      <th></th>\n",
       "      <th>0</th>\n",
       "      <th>1</th>\n",
       "      <th>2</th>\n",
       "      <th>3</th>\n",
       "      <th>4</th>\n",
       "      <th>5</th>\n",
       "    </tr>\n",
       "  </thead>\n",
       "  <tbody>\n",
       "    <tr>\n",
       "      <th>0</th>\n",
       "      <td>1.0</td>\n",
       "      <td>0.0</td>\n",
       "      <td>0.0</td>\n",
       "      <td>0.0</td>\n",
       "      <td>0.0</td>\n",
       "      <td>0.0</td>\n",
       "    </tr>\n",
       "    <tr>\n",
       "      <th>1</th>\n",
       "      <td>1.0</td>\n",
       "      <td>0.0</td>\n",
       "      <td>0.0</td>\n",
       "      <td>0.0</td>\n",
       "      <td>0.0</td>\n",
       "      <td>0.0</td>\n",
       "    </tr>\n",
       "    <tr>\n",
       "      <th>2</th>\n",
       "      <td>1.0</td>\n",
       "      <td>0.0</td>\n",
       "      <td>0.0</td>\n",
       "      <td>0.0</td>\n",
       "      <td>0.0</td>\n",
       "      <td>0.0</td>\n",
       "    </tr>\n",
       "    <tr>\n",
       "      <th>3</th>\n",
       "      <td>1.0</td>\n",
       "      <td>0.0</td>\n",
       "      <td>0.0</td>\n",
       "      <td>0.0</td>\n",
       "      <td>0.0</td>\n",
       "      <td>0.0</td>\n",
       "    </tr>\n",
       "    <tr>\n",
       "      <th>4</th>\n",
       "      <td>1.0</td>\n",
       "      <td>0.0</td>\n",
       "      <td>0.0</td>\n",
       "      <td>0.0</td>\n",
       "      <td>0.0</td>\n",
       "      <td>0.0</td>\n",
       "    </tr>\n",
       "    <tr>\n",
       "      <th>...</th>\n",
       "      <td>...</td>\n",
       "      <td>...</td>\n",
       "      <td>...</td>\n",
       "      <td>...</td>\n",
       "      <td>...</td>\n",
       "      <td>...</td>\n",
       "    </tr>\n",
       "    <tr>\n",
       "      <th>830890</th>\n",
       "      <td>0.0</td>\n",
       "      <td>0.0</td>\n",
       "      <td>0.0</td>\n",
       "      <td>0.0</td>\n",
       "      <td>0.0</td>\n",
       "      <td>1.0</td>\n",
       "    </tr>\n",
       "    <tr>\n",
       "      <th>830891</th>\n",
       "      <td>0.0</td>\n",
       "      <td>0.0</td>\n",
       "      <td>0.0</td>\n",
       "      <td>0.0</td>\n",
       "      <td>0.0</td>\n",
       "      <td>1.0</td>\n",
       "    </tr>\n",
       "    <tr>\n",
       "      <th>830892</th>\n",
       "      <td>0.0</td>\n",
       "      <td>0.0</td>\n",
       "      <td>0.0</td>\n",
       "      <td>0.0</td>\n",
       "      <td>0.0</td>\n",
       "      <td>1.0</td>\n",
       "    </tr>\n",
       "    <tr>\n",
       "      <th>830893</th>\n",
       "      <td>0.0</td>\n",
       "      <td>0.0</td>\n",
       "      <td>0.0</td>\n",
       "      <td>0.0</td>\n",
       "      <td>0.0</td>\n",
       "      <td>1.0</td>\n",
       "    </tr>\n",
       "    <tr>\n",
       "      <th>830894</th>\n",
       "      <td>0.0</td>\n",
       "      <td>0.0</td>\n",
       "      <td>0.0</td>\n",
       "      <td>0.0</td>\n",
       "      <td>0.0</td>\n",
       "      <td>1.0</td>\n",
       "    </tr>\n",
       "  </tbody>\n",
       "</table>\n",
       "<p>830895 rows × 6 columns</p>\n",
       "</div>"
      ],
      "text/plain": [
       "          0    1    2    3    4    5\n",
       "0       1.0  0.0  0.0  0.0  0.0  0.0\n",
       "1       1.0  0.0  0.0  0.0  0.0  0.0\n",
       "2       1.0  0.0  0.0  0.0  0.0  0.0\n",
       "3       1.0  0.0  0.0  0.0  0.0  0.0\n",
       "4       1.0  0.0  0.0  0.0  0.0  0.0\n",
       "...     ...  ...  ...  ...  ...  ...\n",
       "830890  0.0  0.0  0.0  0.0  0.0  1.0\n",
       "830891  0.0  0.0  0.0  0.0  0.0  1.0\n",
       "830892  0.0  0.0  0.0  0.0  0.0  1.0\n",
       "830893  0.0  0.0  0.0  0.0  0.0  1.0\n",
       "830894  0.0  0.0  0.0  0.0  0.0  1.0\n",
       "\n",
       "[830895 rows x 6 columns]"
      ]
     },
     "execution_count": 21,
     "metadata": {},
     "output_type": "execute_result"
    }
   ],
   "source": [
    "y"
   ]
  },
  {
   "cell_type": "code",
   "execution_count": 22,
   "metadata": {
    "execution": {
     "iopub.execute_input": "2021-11-20T08:26:34.430365Z",
     "iopub.status.busy": "2021-11-20T08:26:34.430002Z",
     "iopub.status.idle": "2021-11-20T08:26:34.453096Z",
     "shell.execute_reply": "2021-11-20T08:26:34.452216Z",
     "shell.execute_reply.started": "2021-11-20T08:26:34.430296Z"
    },
    "id": "eKz3GLPlktvS"
   },
   "outputs": [],
   "source": [
    "x_train, x_test, y_train, y_test = train_test_split( X, y, test_size=0.000001, random_state=142)"
   ]
  },
  {
   "cell_type": "code",
   "execution_count": 23,
   "metadata": {
    "colab": {
     "base_uri": "https://localhost:8080/"
    },
    "execution": {
     "iopub.execute_input": "2021-11-20T08:26:44.453584Z",
     "iopub.status.busy": "2021-11-20T08:26:44.453168Z",
     "iopub.status.idle": "2021-11-20T08:26:44.500774Z",
     "shell.execute_reply": "2021-11-20T08:26:44.499892Z",
     "shell.execute_reply.started": "2021-11-20T08:26:44.453537Z"
    },
    "id": "5_kn0mRtktvT",
    "outputId": "76bbb947-2bb3-4e0f-95e2-6e0db5413cda"
   },
   "outputs": [
    {
     "name": "stdout",
     "output_type": "stream",
     "text": [
      "<class 'pandas.core.frame.DataFrame'>\n",
      "Int64Index: 830894 entries, 112264 to 367813\n",
      "Data columns (total 12 columns):\n",
      " #   Column              Non-Null Count   Dtype  \n",
      "---  ------              --------------   -----  \n",
      " 0   attitude.roll       830894 non-null  float64\n",
      " 1   attitude.pitch      830894 non-null  float64\n",
      " 2   attitude.yaw        830894 non-null  float64\n",
      " 3   gravity.x           830894 non-null  float64\n",
      " 4   gravity.y           830894 non-null  float64\n",
      " 5   gravity.z           830894 non-null  float64\n",
      " 6   rotationRate.x      830894 non-null  float64\n",
      " 7   rotationRate.y      830894 non-null  float64\n",
      " 8   rotationRate.z      830894 non-null  float64\n",
      " 9   userAcceleration.x  830894 non-null  float64\n",
      " 10  userAcceleration.y  830894 non-null  float64\n",
      " 11  userAcceleration.z  830894 non-null  float64\n",
      "dtypes: float64(12)\n",
      "memory usage: 82.4 MB\n",
      "<class 'pandas.core.frame.DataFrame'>\n",
      "Int64Index: 830894 entries, 112264 to 367813\n",
      "Data columns (total 6 columns):\n",
      " #   Column  Non-Null Count   Dtype  \n",
      "---  ------  --------------   -----  \n",
      " 0   0       830894 non-null  float64\n",
      " 1   1       830894 non-null  float64\n",
      " 2   2       830894 non-null  float64\n",
      " 3   3       830894 non-null  float64\n",
      " 4   4       830894 non-null  float64\n",
      " 5   5       830894 non-null  float64\n",
      "dtypes: float64(6)\n",
      "memory usage: 44.4 MB\n",
      "<class 'pandas.core.frame.DataFrame'>\n",
      "Int64Index: 1 entries, 826641 to 826641\n",
      "Data columns (total 12 columns):\n",
      " #   Column              Non-Null Count  Dtype  \n",
      "---  ------              --------------  -----  \n",
      " 0   attitude.roll       1 non-null      float64\n",
      " 1   attitude.pitch      1 non-null      float64\n",
      " 2   attitude.yaw        1 non-null      float64\n",
      " 3   gravity.x           1 non-null      float64\n",
      " 4   gravity.y           1 non-null      float64\n",
      " 5   gravity.z           1 non-null      float64\n",
      " 6   rotationRate.x      1 non-null      float64\n",
      " 7   rotationRate.y      1 non-null      float64\n",
      " 8   rotationRate.z      1 non-null      float64\n",
      " 9   userAcceleration.x  1 non-null      float64\n",
      " 10  userAcceleration.y  1 non-null      float64\n",
      " 11  userAcceleration.z  1 non-null      float64\n",
      "dtypes: float64(12)\n",
      "memory usage: 104.0 bytes\n",
      "<class 'pandas.core.frame.DataFrame'>\n",
      "Int64Index: 1 entries, 826641 to 826641\n",
      "Data columns (total 6 columns):\n",
      " #   Column  Non-Null Count  Dtype  \n",
      "---  ------  --------------  -----  \n",
      " 0   0       1 non-null      float64\n",
      " 1   1       1 non-null      float64\n",
      " 2   2       1 non-null      float64\n",
      " 3   3       1 non-null      float64\n",
      " 4   4       1 non-null      float64\n",
      " 5   5       1 non-null      float64\n",
      "dtypes: float64(6)\n",
      "memory usage: 56.0 bytes\n"
     ]
    },
    {
     "data": {
      "text/plain": [
       "(None, None, None, None)"
      ]
     },
     "execution_count": 23,
     "metadata": {},
     "output_type": "execute_result"
    }
   ],
   "source": [
    "x_train.info(), y_train.info(),x_test.info(), y_test.info()"
   ]
  },
  {
   "cell_type": "code",
   "execution_count": 24,
   "metadata": {
    "_uuid": "a1088181621b12ba24f67f3dc91be48417288c6b",
    "colab": {
     "base_uri": "https://localhost:8080/"
    },
    "execution": {
     "iopub.execute_input": "2021-11-20T08:26:53.257110Z",
     "iopub.status.busy": "2021-11-20T08:26:53.256837Z",
     "iopub.status.idle": "2021-11-20T08:26:53.266302Z",
     "shell.execute_reply": "2021-11-20T08:26:53.265313Z",
     "shell.execute_reply.started": "2021-11-20T08:26:53.257035Z"
    },
    "id": "DXbHZdHhktvT",
    "outputId": "dd56dc01-9dde-4d25-ddf9-49451425787e"
   },
   "outputs": [
    {
     "data": {
      "text/plain": [
       "((830894, 12), (830894, 6))"
      ]
     },
     "execution_count": 24,
     "metadata": {},
     "output_type": "execute_result"
    }
   ],
   "source": [
    "x_train = np.array(x_train)\n",
    "y_train = np.array(y_train)\n",
    "x_train.shape, y_train.shape"
   ]
  },
  {
   "cell_type": "code",
   "execution_count": null,
   "metadata": {
    "id": "RO7KGL7IktvT"
   },
   "outputs": [],
   "source": []
  },
  {
   "cell_type": "code",
   "execution_count": 28,
   "metadata": {
    "_uuid": "f0cebc09006e4794bfa46db4ac90205670c39cc2",
    "colab": {
     "base_uri": "https://localhost:8080/"
    },
    "execution": {
     "iopub.execute_input": "2021-11-20T08:26:55.008658Z",
     "iopub.status.busy": "2021-11-20T08:26:55.008234Z",
     "iopub.status.idle": "2021-11-20T08:26:55.149075Z",
     "shell.execute_reply": "2021-11-20T08:26:55.147270Z",
     "shell.execute_reply.started": "2021-11-20T08:26:55.008620Z"
    },
    "id": "iCez74g4ktvU",
    "outputId": "5295e00f-ac11-410b-8bc3-322560588829"
   },
   "outputs": [
    {
     "name": "stdout",
     "output_type": "stream",
     "text": [
      "Model: \"sequential_1\"\n",
      "_________________________________________________________________\n",
      " Layer (type)                Output Shape              Param #   \n",
      "=================================================================\n",
      " dense_6 (Dense)             (None, 100)               1300      \n",
      "                                                                 \n",
      " batch_normalization_5 (Batc  (None, 100)              400       \n",
      " hNormalization)                                                 \n",
      "                                                                 \n",
      " dropout_5 (Dropout)         (None, 100)               0         \n",
      "                                                                 \n",
      " dense_7 (Dense)             (None, 200)               20200     \n",
      "                                                                 \n",
      " batch_normalization_6 (Batc  (None, 200)              800       \n",
      " hNormalization)                                                 \n",
      "                                                                 \n",
      " dropout_6 (Dropout)         (None, 200)               0         \n",
      "                                                                 \n",
      " dense_8 (Dense)             (None, 6)                 1206      \n",
      "                                                                 \n",
      "=================================================================\n",
      "Total params: 23,906\n",
      "Trainable params: 23,306\n",
      "Non-trainable params: 600\n",
      "_________________________________________________________________\n"
     ]
    }
   ],
   "source": [
    "model = Sequential()\n",
    "model.add(Dense(100, activation = 'relu', input_shape = (12,)))\n",
    "model.add(BatchNormalization())\n",
    "model.add(Dropout(rate = 0.25))\n",
    "model.add(Dense(200, activation = 'relu'))\n",
    "model.add(BatchNormalization())\n",
    "model.add(Dropout(rate = 0.25))\n",
    "\n",
    "model.add(Dense(6, activation = 'softmax'))\n",
    "model.summary()"
   ]
  },
  {
   "cell_type": "code",
   "execution_count": 29,
   "metadata": {
    "_uuid": "6269ba2596be5fb436ef20071316cb0091ff9d7a",
    "execution": {
     "iopub.execute_input": "2021-11-20T08:26:55.384971Z",
     "iopub.status.busy": "2021-11-20T08:26:55.384598Z",
     "iopub.status.idle": "2021-11-20T08:26:55.470980Z",
     "shell.execute_reply": "2021-11-20T08:26:55.469808Z",
     "shell.execute_reply.started": "2021-11-20T08:26:55.384804Z"
    },
    "id": "Yi5GaPeWktvU"
   },
   "outputs": [],
   "source": [
    "model.compile(loss = 'categorical_crossentropy', optimizer = 'Adam', metrics = ['accuracy'])"
   ]
  },
  {
   "cell_type": "code",
   "execution_count": 30,
   "metadata": {
    "_uuid": "83af4d0b876c1184a08264a03fc68b1cd7f93a7c",
    "colab": {
     "base_uri": "https://localhost:8080/"
    },
    "execution": {
     "iopub.execute_input": "2021-11-20T08:27:44.815767Z",
     "iopub.status.busy": "2021-11-20T08:27:44.815478Z",
     "iopub.status.idle": "2021-11-20T08:28:19.497966Z",
     "shell.execute_reply": "2021-11-20T08:28:19.497174Z",
     "shell.execute_reply.started": "2021-11-20T08:27:44.815729Z"
    },
    "id": "7kqvfUTrktvU",
    "outputId": "97927e23-240e-45d0-d511-5531e8c8e414"
   },
   "outputs": [
    {
     "name": "stdout",
     "output_type": "stream",
     "text": [
      "Epoch 1/5\n",
      "20773/20773 [==============================] - 29s 1ms/step - loss: 0.4675 - accuracy: 0.8239 - val_loss: 0.3587 - val_accuracy: 0.8688\n",
      "Epoch 2/5\n",
      "20773/20773 [==============================] - 29s 1ms/step - loss: 0.4028 - accuracy: 0.8488 - val_loss: 0.3425 - val_accuracy: 0.8767\n",
      "Epoch 3/5\n",
      "20773/20773 [==============================] - 29s 1ms/step - loss: 0.3876 - accuracy: 0.8550 - val_loss: 0.3280 - val_accuracy: 0.8789\n",
      "Epoch 4/5\n",
      "20773/20773 [==============================] - 28s 1ms/step - loss: 0.3799 - accuracy: 0.8581 - val_loss: 0.3250 - val_accuracy: 0.8850\n",
      "Epoch 5/5\n",
      "20773/20773 [==============================] - 29s 1ms/step - loss: 0.3739 - accuracy: 0.8607 - val_loss: 0.3237 - val_accuracy: 0.8880\n"
     ]
    }
   ],
   "source": [
    "history=model.fit(x_train, y_train, batch_size = 32, epochs =5,validation_split = 0.2, verbose = 1)"
   ]
  },
  {
   "cell_type": "code",
   "execution_count": null,
   "metadata": {},
   "outputs": [],
   "source": []
  },
  {
   "cell_type": "code",
   "execution_count": 31,
   "metadata": {},
   "outputs": [
    {
     "name": "stdout",
     "output_type": "stream",
     "text": [
      "INFO:tensorflow:Assets written to: xyz\\assets\n"
     ]
    }
   ],
   "source": [
    "model.save(\"xyz\")"
   ]
  },
  {
   "cell_type": "code",
   "execution_count": 34,
   "metadata": {},
   "outputs": [
    {
     "name": "stderr",
     "output_type": "stream",
     "text": [
      "WARNING:absl:Buffer deduplication procedure will be skipped when flatbuffer library is not properly loaded\n"
     ]
    },
    {
     "data": {
      "text/plain": [
       "49136"
      ]
     },
     "execution_count": 34,
     "metadata": {},
     "output_type": "execute_result"
    }
   ],
   "source": [
    "import tensorflow as tf\n",
    "converter = tf.lite.TFLiteConverter.from_saved_model(\"xyz\")\n",
    "converter.optimizations = [tf.lite.Optimize.DEFAULT]\n",
    "converter.target_spec.supported_types = [tf.float16]\n",
    "tflite_quant_model = converter.convert()\n",
    "open(\"converted_model1000.tflite\", \"wb\").write(tflite_quant_model)\n"
   ]
  }
 ],
 "metadata": {
  "colab": {
   "name": "Copy of run-walk-97-42-val-test-accuracy.ipynb",
   "provenance": []
  },
  "kernelspec": {
   "display_name": "Python 3",
   "language": "python",
   "name": "python3"
  },
  "language_info": {
   "codemirror_mode": {
    "name": "ipython",
    "version": 3
   },
   "file_extension": ".py",
   "mimetype": "text/x-python",
   "name": "python",
   "nbconvert_exporter": "python",
   "pygments_lexer": "ipython3",
   "version": "3.8.8"
  }
 },
 "nbformat": 4,
 "nbformat_minor": 1
}
